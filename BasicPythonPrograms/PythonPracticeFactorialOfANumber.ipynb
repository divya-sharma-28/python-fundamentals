{
  "nbformat": 4,
  "nbformat_minor": 0,
  "metadata": {
    "colab": {
      "provenance": [],
      "authorship_tag": "ABX9TyOQH7dAB1M0nY4+42f7gMME",
      "include_colab_link": true
    },
    "kernelspec": {
      "name": "python3",
      "display_name": "Python 3"
    },
    "language_info": {
      "name": "python"
    }
  },
  "cells": [
    {
      "cell_type": "markdown",
      "metadata": {
        "id": "view-in-github",
        "colab_type": "text"
      },
      "source": [
        "<a href=\"https://colab.research.google.com/github/divya-sharma-28/python-fundamentals/blob/main/BasicPythonPrograms/PythonPracticeFactorialOfANumber.ipynb\" target=\"_parent\"><img src=\"https://colab.research.google.com/assets/colab-badge.svg\" alt=\"Open In Colab\"/></a>"
      ]
    },
    {
      "cell_type": "code",
      "execution_count": 26,
      "metadata": {
        "colab": {
          "base_uri": "https://localhost:8080/"
        },
        "id": "hKrxvdfxsO5w",
        "outputId": "4aab4a47-445b-44eb-9789-da52ebb55c3b"
      },
      "outputs": [
        {
          "output_type": "stream",
          "name": "stdout",
          "text": [
            "120\n"
          ]
        }
      ],
      "source": [
        "# Simple Python program to find the factorial of a number\n",
        "n = 5\n",
        "fact = 1\n",
        "\n",
        "for i in range(1, n + 1):\n",
        "  fact *= i\n",
        "\n",
        "print(fact)"
      ]
    },
    {
      "cell_type": "code",
      "source": [
        "# Using a Recursive Approach\n",
        "def recursiveFactorial(n):\n",
        "  return 1 if (n == 0 or n == 1) else n * recursiveFactorial(n - 1)\n",
        "\n",
        "n = 5\n",
        "print(recursiveFactorial(n))"
      ],
      "metadata": {
        "id": "uMa1N5JVpdjP",
        "colab": {
          "base_uri": "https://localhost:8080/"
        },
        "outputId": "ffec372a-819a-4cf6-aaee-592753c3a873"
      },
      "execution_count": 27,
      "outputs": [
        {
          "output_type": "stream",
          "name": "stdout",
          "text": [
            "120\n"
          ]
        }
      ]
    },
    {
      "cell_type": "code",
      "source": [
        "# Using math.factorial()\n",
        "import math\n",
        "\n",
        "n = 5\n",
        "print(math.factorial(n))"
      ],
      "metadata": {
        "colab": {
          "base_uri": "https://localhost:8080/"
        },
        "id": "YbjYg5MICRk1",
        "outputId": "328463df-18ef-4243-9d76-ed55729439c2"
      },
      "execution_count": 28,
      "outputs": [
        {
          "output_type": "stream",
          "name": "stdout",
          "text": [
            "120\n"
          ]
        }
      ]
    },
    {
      "cell_type": "code",
      "source": [
        "# Using numpy.prod()\n",
        "import numpy\n",
        "\n",
        "n = 5\n",
        "result = numpy.prod([i for i in range(1, n+1)])\n",
        "print(result)\n"
      ],
      "metadata": {
        "colab": {
          "base_uri": "https://localhost:8080/"
        },
        "id": "3ic4MysrCqRL",
        "outputId": "d418dc6c-6e95-42b0-9c4d-d00478687148"
      },
      "execution_count": 29,
      "outputs": [
        {
          "output_type": "stream",
          "name": "stdout",
          "text": [
            "120\n"
          ]
        }
      ]
    },
    {
      "cell_type": "code",
      "source": [
        "# Using Prime Factorization\n",
        "def is_prime(n):\n",
        "  if n <= 1:\n",
        "    return False\n",
        "  for i in range(2, n+1):\n",
        "    if n % i == 0:\n",
        "      return False\n",
        "    return True\n",
        "\n",
        "def factorial(n):\n",
        "  if(is_prime(n)):\n",
        "    return recursiveFactorial(n)\n",
        "  else:\n",
        "    return \"It's not a prime number\"\n",
        "\n",
        "n = factorial(3)\n",
        "print(n)"
      ],
      "metadata": {
        "colab": {
          "base_uri": "https://localhost:8080/"
        },
        "id": "1D5h3Hh8Dp_2",
        "outputId": "e08acd1d-7dba-479c-9a4e-f1367c75d374"
      },
      "execution_count": 30,
      "outputs": [
        {
          "output_type": "stream",
          "name": "stdout",
          "text": [
            "6\n"
          ]
        }
      ]
    }
  ]
}