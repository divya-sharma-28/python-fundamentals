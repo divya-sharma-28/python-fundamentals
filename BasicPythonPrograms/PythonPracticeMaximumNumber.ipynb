{
  "nbformat": 4,
  "nbformat_minor": 0,
  "metadata": {
    "colab": {
      "provenance": [],
      "authorship_tag": "ABX9TyMWcIuwF9QtEaKL5jE0pgn7",
      "include_colab_link": true
    },
    "kernelspec": {
      "name": "python3",
      "display_name": "Python 3"
    },
    "language_info": {
      "name": "python"
    }
  },
  "cells": [
    {
      "cell_type": "markdown",
      "metadata": {
        "id": "view-in-github",
        "colab_type": "text"
      },
      "source": [
        "<a href=\"https://colab.research.google.com/github/divya-sharma-28/python-fundamentals/blob/max-number/BasicPythonPrograms/PythonPracticeMaximumNumber.ipynb\" target=\"_parent\"><img src=\"https://colab.research.google.com/assets/colab-badge.svg\" alt=\"Open In Colab\"/></a>"
      ]
    },
    {
      "cell_type": "code",
      "execution_count": 2,
      "metadata": {
        "colab": {
          "base_uri": "https://localhost:8080/"
        },
        "id": "S5j37TAkUAAC",
        "outputId": "e2f84ee3-102f-47cc-d717-e596fb0e7e2a"
      },
      "outputs": [
        {
          "output_type": "stream",
          "name": "stdout",
          "text": [
            "7\n"
          ]
        }
      ],
      "source": [
        "# Using max()\n",
        "a = 5\n",
        "b = 7\n",
        "c = 4\n",
        "result = max(a,b,c)\n",
        "print(result)"
      ]
    },
    {
      "cell_type": "code",
      "source": [
        "# Using ternary operator\n",
        "a = 7\n",
        "b = 6\n",
        "result = a if a > b else b\n",
        "print(result)"
      ],
      "metadata": {
        "colab": {
          "base_uri": "https://localhost:8080/"
        },
        "id": "X0m9zauQUn8k",
        "outputId": "eef9ca20-13d4-4e7a-b253-57fe44005b7d"
      },
      "execution_count": 5,
      "outputs": [
        {
          "output_type": "stream",
          "name": "stdout",
          "text": [
            "7\n"
          ]
        }
      ]
    },
    {
      "cell_type": "code",
      "source": [
        "# Using if-Else statement\n",
        "a = 7\n",
        "b = 6\n",
        "if a > b:\n",
        "  print(a)\n",
        "else:\n",
        "  print(b)"
      ],
      "metadata": {
        "colab": {
          "base_uri": "https://localhost:8080/"
        },
        "id": "OukFNC5wWTRr",
        "outputId": "12eab407-5794-477a-8f27-617fd53aaf72"
      },
      "execution_count": 7,
      "outputs": [
        {
          "output_type": "stream",
          "name": "stdout",
          "text": [
            "7\n"
          ]
        }
      ]
    },
    {
      "cell_type": "code",
      "source": [
        "# Using sort()\n",
        "a = 10\n",
        "b = 9\n",
        "c = 15\n",
        "num = [a,b,c]\n",
        "num.sort()\n",
        "print(num[-1])"
      ],
      "metadata": {
        "colab": {
          "base_uri": "https://localhost:8080/"
        },
        "id": "22NENrVtXCT7",
        "outputId": "b08e7088-c9ef-42a9-be75-696a03973a6a"
      },
      "execution_count": 11,
      "outputs": [
        {
          "output_type": "stream",
          "name": "stdout",
          "text": [
            "15\n"
          ]
        }
      ]
    }
  ]
}