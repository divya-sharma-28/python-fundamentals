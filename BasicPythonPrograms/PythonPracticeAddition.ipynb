{
  "nbformat": 4,
  "nbformat_minor": 0,
  "metadata": {
    "colab": {
      "provenance": [],
      "authorship_tag": "ABX9TyN1neiKJxAgEZHzU0FaeRd4",
      "include_colab_link": true
    },
    "kernelspec": {
      "name": "python3",
      "display_name": "Python 3"
    },
    "language_info": {
      "name": "python"
    }
  },
  "cells": [
    {
      "cell_type": "markdown",
      "metadata": {
        "id": "view-in-github",
        "colab_type": "text"
      },
      "source": [
        "<a href=\"https://colab.research.google.com/github/divya-sharma-28/python-fundamentals/blob/main/PythonPracticeAddition.ipynb\" target=\"_parent\"><img src=\"https://colab.research.google.com/assets/colab-badge.svg\" alt=\"Open In Colab\"/></a>"
      ]
    },
    {
      "cell_type": "code",
      "execution_count": null,
      "metadata": {
        "colab": {
          "base_uri": "https://localhost:8080/"
        },
        "id": "2RTvpXhAuchS",
        "outputId": "7c112900-5975-4009-b897-041281963ff8"
      },
      "outputs": [
        {
          "output_type": "stream",
          "name": "stdout",
          "text": [
            "27\n"
          ]
        }
      ],
      "source": [
        "# Using the \"+\" Operator\n",
        "a = 15\n",
        "b = 12\n",
        "result = a + b\n",
        "print(result)"
      ]
    },
    {
      "cell_type": "code",
      "source": [
        "# Using user input\n",
        "a = input(\"Enter first number: \")\n",
        "b = input(\"Enter second number: \")\n",
        "result = float(a) + float(b)\n",
        "print(result)"
      ],
      "metadata": {
        "colab": {
          "base_uri": "https://localhost:8080/"
        },
        "id": "FcVO8kJ_vTdj",
        "outputId": "5ff4a6c4-77b8-4dd0-c73d-286c58737562"
      },
      "execution_count": null,
      "outputs": [
        {
          "output_type": "stream",
          "name": "stdout",
          "text": [
            "Enter first number: 12\n",
            "Enter second number: 13\n",
            "25.0\n"
          ]
        }
      ]
    },
    {
      "cell_type": "code",
      "source": [
        "# Using Function\n",
        "def add(a,b):\n",
        "  return float(a) + float(b)\n",
        "\n",
        "a = input(\"Enter first number: \")\n",
        "b = input(\"Enter second number: \")\n",
        "result1 = add(a,b)\n",
        "print(result1)\n",
        "\n",
        "c = input(\"Enter first number: \")\n",
        "d = input(\"Enter second number: \")\n",
        "result2 = add(c,d)\n",
        "print(result2)"
      ],
      "metadata": {
        "colab": {
          "base_uri": "https://localhost:8080/"
        },
        "id": "ufljf0kXv2pv",
        "outputId": "dae2add4-caa9-4ab0-f387-18fb5a7af9f3"
      },
      "execution_count": null,
      "outputs": [
        {
          "output_type": "stream",
          "name": "stdout",
          "text": [
            "Enter first number: 11\n",
            "Enter second number: 22\n",
            "33.0\n",
            "Enter first number: 33\n",
            "Enter second number: 44\n",
            "77.0\n"
          ]
        }
      ]
    },
    {
      "cell_type": "code",
      "source": [
        "# Using Lambda Function\n",
        "lambdaFun = lambda a,b : float(a) + float(b)\n",
        "print(lambdaFun(15,12))"
      ],
      "metadata": {
        "colab": {
          "base_uri": "https://localhost:8080/"
        },
        "id": "6Rr2gYE6weN6",
        "outputId": "da5ed0b8-4239-4075-c19d-bc2eb1edb9b8"
      },
      "execution_count": null,
      "outputs": [
        {
          "output_type": "stream",
          "name": "stdout",
          "text": [
            "27.0\n"
          ]
        }
      ]
    },
    {
      "cell_type": "code",
      "source": [
        "# Using operator.add\n",
        "import operator\n",
        "print(operator.add(15,12))"
      ],
      "metadata": {
        "colab": {
          "base_uri": "https://localhost:8080/"
        },
        "id": "KLGF5zp5wx4q",
        "outputId": "d808ae7e-77d4-47a1-ece6-17ca85dc9db7"
      },
      "execution_count": null,
      "outputs": [
        {
          "output_type": "stream",
          "name": "stdout",
          "text": [
            "27\n"
          ]
        }
      ]
    },
    {
      "cell_type": "code",
      "source": [
        "# Using sum()\n",
        "print(sum([13,13,32]))"
      ],
      "metadata": {
        "colab": {
          "base_uri": "https://localhost:8080/"
        },
        "id": "zxSQXFsLxSml",
        "outputId": "eb50be98-9b6c-401a-daca-79b609e09408"
      },
      "execution_count": null,
      "outputs": [
        {
          "output_type": "stream",
          "name": "stdout",
          "text": [
            "58\n"
          ]
        }
      ]
    }
  ]
}
